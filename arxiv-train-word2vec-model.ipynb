{
 "cells": [
  {
   "cell_type": "code",
   "execution_count": 1,
   "metadata": {
    "_cell_guid": "09f1df91-7b48-4a73-9938-42b693f99fa8",
    "_uuid": "aa5186f3-e96c-41ca-a95f-d967c467e27a",
    "execution": {
     "iopub.execute_input": "2021-05-26T12:56:24.136662Z",
     "iopub.status.busy": "2021-05-26T12:56:24.136156Z",
     "iopub.status.idle": "2021-05-26T12:56:28.089390Z",
     "shell.execute_reply": "2021-05-26T12:56:28.090359Z",
     "shell.execute_reply.started": "2021-05-26T11:18:36.200711Z"
    },
    "papermill": {
     "duration": 3.981916,
     "end_time": "2021-05-26T12:56:28.090536",
     "exception": false,
     "start_time": "2021-05-26T12:56:24.108620",
     "status": "completed"
    },
    "tags": []
   },
   "outputs": [
    {
     "name": "stdout",
     "output_type": "stream",
     "text": [
      "['author', 'day', 'id', 'link', 'month', 'summary', 'tag', 'title', 'year']\n"
     ]
    },
    {
     "data": {
      "text/plain": [
       "author     0\n",
       "day        0\n",
       "id         0\n",
       "link       0\n",
       "month      0\n",
       "summary    0\n",
       "tag        0\n",
       "title      0\n",
       "year       0\n",
       "dtype: int64"
      ]
     },
     "execution_count": 1,
     "metadata": {},
     "output_type": "execute_result"
    }
   ],
   "source": [
    "import pandas as pd\n",
    "import datetime\n",
    "import nltk\n",
    "import spacy\n",
    "\n",
    "import re\n",
    "from time import time \n",
    "from collections import defaultdict\n",
    "\n",
    "import logging  # Setting up the loggings to monitor gensim\n",
    "logging.basicConfig(format=\"%(levelname)s - %(asctime)s: %(message)s\", datefmt= '%H:%M:%S', level=logging.INFO)\n",
    "\n",
    "\n",
    "data = pd.read_json(\"../input/arxivdataset/arxivData.json\")\n",
    "print(list(data))\n",
    "data.shape\n",
    "data.head()\n",
    "data.isnull().sum()"
   ]
  },
  {
   "cell_type": "code",
   "execution_count": 2,
   "metadata": {
    "execution": {
     "iopub.execute_input": "2021-05-26T12:56:28.163040Z",
     "iopub.status.busy": "2021-05-26T12:56:28.162441Z",
     "iopub.status.idle": "2021-05-26T12:56:28.164786Z",
     "shell.execute_reply": "2021-05-26T12:56:28.164269Z",
     "shell.execute_reply.started": "2021-05-26T11:18:36.937426Z"
    },
    "papermill": {
     "duration": 0.039842,
     "end_time": "2021-05-26T12:56:28.164888",
     "exception": false,
     "start_time": "2021-05-26T12:56:28.125046",
     "status": "completed"
    },
    "tags": []
   },
   "outputs": [],
   "source": [
    "# ### smaller data. subset: \n",
    "# data = data.loc[data[\"year\"]>2016]"
   ]
  },
  {
   "cell_type": "code",
   "execution_count": 3,
   "metadata": {
    "_cell_guid": "453d6a4c-f40b-40ba-b9fd-02dabf96e15a",
    "_uuid": "70235f4a-d405-4ff3-9a5d-c62a9061fda8",
    "execution": {
     "iopub.execute_input": "2021-05-26T12:56:28.243569Z",
     "iopub.status.busy": "2021-05-26T12:56:28.242268Z",
     "iopub.status.idle": "2021-05-26T12:56:28.253626Z",
     "shell.execute_reply": "2021-05-26T12:56:28.253980Z",
     "shell.execute_reply.started": "2021-05-26T11:18:36.942305Z"
    },
    "papermill": {
     "duration": 0.055247,
     "end_time": "2021-05-26T12:56:28.254089",
     "exception": false,
     "start_time": "2021-05-26T12:56:28.198842",
     "status": "completed"
    },
    "tags": []
   },
   "outputs": [
    {
     "data": {
      "text/html": [
       "<div>\n",
       "<style scoped>\n",
       "    .dataframe tbody tr th:only-of-type {\n",
       "        vertical-align: middle;\n",
       "    }\n",
       "\n",
       "    .dataframe tbody tr th {\n",
       "        vertical-align: top;\n",
       "    }\n",
       "\n",
       "    .dataframe thead th {\n",
       "        text-align: right;\n",
       "    }\n",
       "</style>\n",
       "<table border=\"1\" class=\"dataframe\">\n",
       "  <thead>\n",
       "    <tr style=\"text-align: right;\">\n",
       "      <th></th>\n",
       "      <th>author</th>\n",
       "      <th>day</th>\n",
       "      <th>id</th>\n",
       "      <th>link</th>\n",
       "      <th>month</th>\n",
       "      <th>summary</th>\n",
       "      <th>tag</th>\n",
       "      <th>title</th>\n",
       "      <th>year</th>\n",
       "    </tr>\n",
       "  </thead>\n",
       "  <tbody>\n",
       "    <tr>\n",
       "      <th>0</th>\n",
       "      <td>[{'name': 'Ahmed Osman'}, {'name': 'Wojciech S...</td>\n",
       "      <td>1</td>\n",
       "      <td>1802.00209v1</td>\n",
       "      <td>[{'rel': 'alternate', 'href': 'http://arxiv.or...</td>\n",
       "      <td>2</td>\n",
       "      <td>We propose an architecture for VQA which utili...</td>\n",
       "      <td>[{'term': 'cs.AI', 'scheme': 'http://arxiv.org...</td>\n",
       "      <td>Dual Recurrent Attention Units for Visual Ques...</td>\n",
       "      <td>2018</td>\n",
       "    </tr>\n",
       "    <tr>\n",
       "      <th>1</th>\n",
       "      <td>[{'name': 'Ji Young Lee'}, {'name': 'Franck De...</td>\n",
       "      <td>12</td>\n",
       "      <td>1603.03827v1</td>\n",
       "      <td>[{'rel': 'alternate', 'href': 'http://arxiv.or...</td>\n",
       "      <td>3</td>\n",
       "      <td>Recent approaches based on artificial neural n...</td>\n",
       "      <td>[{'term': 'cs.CL', 'scheme': 'http://arxiv.org...</td>\n",
       "      <td>Sequential Short-Text Classification with Recu...</td>\n",
       "      <td>2016</td>\n",
       "    </tr>\n",
       "    <tr>\n",
       "      <th>2</th>\n",
       "      <td>[{'name': 'Iulian Vlad Serban'}, {'name': 'Tim...</td>\n",
       "      <td>2</td>\n",
       "      <td>1606.00776v2</td>\n",
       "      <td>[{'rel': 'alternate', 'href': 'http://arxiv.or...</td>\n",
       "      <td>6</td>\n",
       "      <td>We introduce the multiresolution recurrent neu...</td>\n",
       "      <td>[{'term': 'cs.CL', 'scheme': 'http://arxiv.org...</td>\n",
       "      <td>Multiresolution Recurrent Neural Networks: An ...</td>\n",
       "      <td>2016</td>\n",
       "    </tr>\n",
       "    <tr>\n",
       "      <th>3</th>\n",
       "      <td>[{'name': 'Sebastian Ruder'}, {'name': 'Joachi...</td>\n",
       "      <td>23</td>\n",
       "      <td>1705.08142v2</td>\n",
       "      <td>[{'rel': 'alternate', 'href': 'http://arxiv.or...</td>\n",
       "      <td>5</td>\n",
       "      <td>Multi-task learning is motivated by the observ...</td>\n",
       "      <td>[{'term': 'stat.ML', 'scheme': 'http://arxiv.o...</td>\n",
       "      <td>Learning what to share between loosely related...</td>\n",
       "      <td>2017</td>\n",
       "    </tr>\n",
       "    <tr>\n",
       "      <th>4</th>\n",
       "      <td>[{'name': 'Iulian V. Serban'}, {'name': 'Chinn...</td>\n",
       "      <td>7</td>\n",
       "      <td>1709.02349v2</td>\n",
       "      <td>[{'rel': 'alternate', 'href': 'http://arxiv.or...</td>\n",
       "      <td>9</td>\n",
       "      <td>We present MILABOT: a deep reinforcement learn...</td>\n",
       "      <td>[{'term': 'cs.CL', 'scheme': 'http://arxiv.org...</td>\n",
       "      <td>A Deep Reinforcement Learning Chatbot</td>\n",
       "      <td>2017</td>\n",
       "    </tr>\n",
       "  </tbody>\n",
       "</table>\n",
       "</div>"
      ],
      "text/plain": [
       "                                              author  day            id  \\\n",
       "0  [{'name': 'Ahmed Osman'}, {'name': 'Wojciech S...    1  1802.00209v1   \n",
       "1  [{'name': 'Ji Young Lee'}, {'name': 'Franck De...   12  1603.03827v1   \n",
       "2  [{'name': 'Iulian Vlad Serban'}, {'name': 'Tim...    2  1606.00776v2   \n",
       "3  [{'name': 'Sebastian Ruder'}, {'name': 'Joachi...   23  1705.08142v2   \n",
       "4  [{'name': 'Iulian V. Serban'}, {'name': 'Chinn...    7  1709.02349v2   \n",
       "\n",
       "                                                link  month  \\\n",
       "0  [{'rel': 'alternate', 'href': 'http://arxiv.or...      2   \n",
       "1  [{'rel': 'alternate', 'href': 'http://arxiv.or...      3   \n",
       "2  [{'rel': 'alternate', 'href': 'http://arxiv.or...      6   \n",
       "3  [{'rel': 'alternate', 'href': 'http://arxiv.or...      5   \n",
       "4  [{'rel': 'alternate', 'href': 'http://arxiv.or...      9   \n",
       "\n",
       "                                             summary  \\\n",
       "0  We propose an architecture for VQA which utili...   \n",
       "1  Recent approaches based on artificial neural n...   \n",
       "2  We introduce the multiresolution recurrent neu...   \n",
       "3  Multi-task learning is motivated by the observ...   \n",
       "4  We present MILABOT: a deep reinforcement learn...   \n",
       "\n",
       "                                                 tag  \\\n",
       "0  [{'term': 'cs.AI', 'scheme': 'http://arxiv.org...   \n",
       "1  [{'term': 'cs.CL', 'scheme': 'http://arxiv.org...   \n",
       "2  [{'term': 'cs.CL', 'scheme': 'http://arxiv.org...   \n",
       "3  [{'term': 'stat.ML', 'scheme': 'http://arxiv.o...   \n",
       "4  [{'term': 'cs.CL', 'scheme': 'http://arxiv.org...   \n",
       "\n",
       "                                               title  year  \n",
       "0  Dual Recurrent Attention Units for Visual Ques...  2018  \n",
       "1  Sequential Short-Text Classification with Recu...  2016  \n",
       "2  Multiresolution Recurrent Neural Networks: An ...  2016  \n",
       "3  Learning what to share between loosely related...  2017  \n",
       "4              A Deep Reinforcement Learning Chatbot  2017  "
      ]
     },
     "execution_count": 3,
     "metadata": {},
     "output_type": "execute_result"
    }
   ],
   "source": [
    "data.head()"
   ]
  },
  {
   "cell_type": "code",
   "execution_count": 4,
   "metadata": {
    "_cell_guid": "6f527ee9-d1e3-4096-af37-f6f3525620c1",
    "_uuid": "8cd36f7d-8529-4866-b60e-974483c94079",
    "execution": {
     "iopub.execute_input": "2021-05-26T12:56:28.325032Z",
     "iopub.status.busy": "2021-05-26T12:56:28.324369Z",
     "iopub.status.idle": "2021-05-26T12:56:28.366715Z",
     "shell.execute_reply": "2021-05-26T12:56:28.366339Z",
     "shell.execute_reply.started": "2021-05-26T11:18:36.969916Z"
    },
    "papermill": {
     "duration": 0.090148,
     "end_time": "2021-05-26T12:56:28.366797",
     "exception": false,
     "start_time": "2021-05-26T12:56:28.276649",
     "status": "completed"
    },
    "tags": []
   },
   "outputs": [
    {
     "data": {
      "text/plain": [
       "author     0\n",
       "day        0\n",
       "id         0\n",
       "link       0\n",
       "month      0\n",
       "summary    0\n",
       "tag        0\n",
       "title      0\n",
       "year       0\n",
       "dtype: int64"
      ]
     },
     "execution_count": 4,
     "metadata": {},
     "output_type": "execute_result"
    }
   ],
   "source": [
    "data = data.dropna().reset_index(drop=True)\n",
    "data.isnull().sum()"
   ]
  },
  {
   "cell_type": "code",
   "execution_count": 5,
   "metadata": {
    "_cell_guid": "31295019-4397-4589-863c-870d4e8f1884",
    "_uuid": "157d8a32-311b-441f-bc49-e426afcc305b",
    "execution": {
     "iopub.execute_input": "2021-05-26T12:56:28.418845Z",
     "iopub.status.busy": "2021-05-26T12:56:28.416871Z",
     "iopub.status.idle": "2021-05-26T12:56:28.431043Z",
     "shell.execute_reply": "2021-05-26T12:56:28.430589Z",
     "shell.execute_reply.started": "2021-05-26T11:18:37.068939Z"
    },
    "papermill": {
     "duration": 0.041305,
     "end_time": "2021-05-26T12:56:28.431122",
     "exception": false,
     "start_time": "2021-05-26T12:56:28.389817",
     "status": "completed"
    },
    "tags": []
   },
   "outputs": [
    {
     "data": {
      "text/html": [
       "<div>\n",
       "<style scoped>\n",
       "    .dataframe tbody tr th:only-of-type {\n",
       "        vertical-align: middle;\n",
       "    }\n",
       "\n",
       "    .dataframe tbody tr th {\n",
       "        vertical-align: top;\n",
       "    }\n",
       "\n",
       "    .dataframe thead th {\n",
       "        text-align: right;\n",
       "    }\n",
       "</style>\n",
       "<table border=\"1\" class=\"dataframe\">\n",
       "  <thead>\n",
       "    <tr style=\"text-align: right;\">\n",
       "      <th></th>\n",
       "      <th>author</th>\n",
       "      <th>day</th>\n",
       "      <th>id</th>\n",
       "      <th>link</th>\n",
       "      <th>month</th>\n",
       "      <th>summary</th>\n",
       "      <th>tag</th>\n",
       "      <th>title</th>\n",
       "      <th>year</th>\n",
       "    </tr>\n",
       "  </thead>\n",
       "  <tbody>\n",
       "    <tr>\n",
       "      <th>0</th>\n",
       "      <td>[{'name': 'Ahmed Osman'}, {'name': 'Wojciech S...</td>\n",
       "      <td>1</td>\n",
       "      <td>1802.00209v1</td>\n",
       "      <td>[{'rel': 'alternate', 'href': 'http://arxiv.or...</td>\n",
       "      <td>2</td>\n",
       "      <td>We propose an architecture for VQA which utili...</td>\n",
       "      <td>[{'term': 'cs.AI', 'scheme': 'http://arxiv.org...</td>\n",
       "      <td>Dual Recurrent Attention Units for Visual Ques...</td>\n",
       "      <td>1970-01-01 00:00:00.000002018</td>\n",
       "    </tr>\n",
       "    <tr>\n",
       "      <th>1</th>\n",
       "      <td>[{'name': 'Ji Young Lee'}, {'name': 'Franck De...</td>\n",
       "      <td>12</td>\n",
       "      <td>1603.03827v1</td>\n",
       "      <td>[{'rel': 'alternate', 'href': 'http://arxiv.or...</td>\n",
       "      <td>3</td>\n",
       "      <td>Recent approaches based on artificial neural n...</td>\n",
       "      <td>[{'term': 'cs.CL', 'scheme': 'http://arxiv.org...</td>\n",
       "      <td>Sequential Short-Text Classification with Recu...</td>\n",
       "      <td>1970-01-01 00:00:00.000002016</td>\n",
       "    </tr>\n",
       "    <tr>\n",
       "      <th>2</th>\n",
       "      <td>[{'name': 'Iulian Vlad Serban'}, {'name': 'Tim...</td>\n",
       "      <td>2</td>\n",
       "      <td>1606.00776v2</td>\n",
       "      <td>[{'rel': 'alternate', 'href': 'http://arxiv.or...</td>\n",
       "      <td>6</td>\n",
       "      <td>We introduce the multiresolution recurrent neu...</td>\n",
       "      <td>[{'term': 'cs.CL', 'scheme': 'http://arxiv.org...</td>\n",
       "      <td>Multiresolution Recurrent Neural Networks: An ...</td>\n",
       "      <td>1970-01-01 00:00:00.000002016</td>\n",
       "    </tr>\n",
       "    <tr>\n",
       "      <th>3</th>\n",
       "      <td>[{'name': 'Sebastian Ruder'}, {'name': 'Joachi...</td>\n",
       "      <td>23</td>\n",
       "      <td>1705.08142v2</td>\n",
       "      <td>[{'rel': 'alternate', 'href': 'http://arxiv.or...</td>\n",
       "      <td>5</td>\n",
       "      <td>Multi-task learning is motivated by the observ...</td>\n",
       "      <td>[{'term': 'stat.ML', 'scheme': 'http://arxiv.o...</td>\n",
       "      <td>Learning what to share between loosely related...</td>\n",
       "      <td>1970-01-01 00:00:00.000002017</td>\n",
       "    </tr>\n",
       "    <tr>\n",
       "      <th>4</th>\n",
       "      <td>[{'name': 'Iulian V. Serban'}, {'name': 'Chinn...</td>\n",
       "      <td>7</td>\n",
       "      <td>1709.02349v2</td>\n",
       "      <td>[{'rel': 'alternate', 'href': 'http://arxiv.or...</td>\n",
       "      <td>9</td>\n",
       "      <td>We present MILABOT: a deep reinforcement learn...</td>\n",
       "      <td>[{'term': 'cs.CL', 'scheme': 'http://arxiv.org...</td>\n",
       "      <td>A Deep Reinforcement Learning Chatbot</td>\n",
       "      <td>1970-01-01 00:00:00.000002017</td>\n",
       "    </tr>\n",
       "  </tbody>\n",
       "</table>\n",
       "</div>"
      ],
      "text/plain": [
       "                                              author  day            id  \\\n",
       "0  [{'name': 'Ahmed Osman'}, {'name': 'Wojciech S...    1  1802.00209v1   \n",
       "1  [{'name': 'Ji Young Lee'}, {'name': 'Franck De...   12  1603.03827v1   \n",
       "2  [{'name': 'Iulian Vlad Serban'}, {'name': 'Tim...    2  1606.00776v2   \n",
       "3  [{'name': 'Sebastian Ruder'}, {'name': 'Joachi...   23  1705.08142v2   \n",
       "4  [{'name': 'Iulian V. Serban'}, {'name': 'Chinn...    7  1709.02349v2   \n",
       "\n",
       "                                                link  month  \\\n",
       "0  [{'rel': 'alternate', 'href': 'http://arxiv.or...      2   \n",
       "1  [{'rel': 'alternate', 'href': 'http://arxiv.or...      3   \n",
       "2  [{'rel': 'alternate', 'href': 'http://arxiv.or...      6   \n",
       "3  [{'rel': 'alternate', 'href': 'http://arxiv.or...      5   \n",
       "4  [{'rel': 'alternate', 'href': 'http://arxiv.or...      9   \n",
       "\n",
       "                                             summary  \\\n",
       "0  We propose an architecture for VQA which utili...   \n",
       "1  Recent approaches based on artificial neural n...   \n",
       "2  We introduce the multiresolution recurrent neu...   \n",
       "3  Multi-task learning is motivated by the observ...   \n",
       "4  We present MILABOT: a deep reinforcement learn...   \n",
       "\n",
       "                                                 tag  \\\n",
       "0  [{'term': 'cs.AI', 'scheme': 'http://arxiv.org...   \n",
       "1  [{'term': 'cs.CL', 'scheme': 'http://arxiv.org...   \n",
       "2  [{'term': 'cs.CL', 'scheme': 'http://arxiv.org...   \n",
       "3  [{'term': 'stat.ML', 'scheme': 'http://arxiv.o...   \n",
       "4  [{'term': 'cs.CL', 'scheme': 'http://arxiv.org...   \n",
       "\n",
       "                                               title  \\\n",
       "0  Dual Recurrent Attention Units for Visual Ques...   \n",
       "1  Sequential Short-Text Classification with Recu...   \n",
       "2  Multiresolution Recurrent Neural Networks: An ...   \n",
       "3  Learning what to share between loosely related...   \n",
       "4              A Deep Reinforcement Learning Chatbot   \n",
       "\n",
       "                           year  \n",
       "0 1970-01-01 00:00:00.000002018  \n",
       "1 1970-01-01 00:00:00.000002016  \n",
       "2 1970-01-01 00:00:00.000002016  \n",
       "3 1970-01-01 00:00:00.000002017  \n",
       "4 1970-01-01 00:00:00.000002017  "
      ]
     },
     "execution_count": 5,
     "metadata": {},
     "output_type": "execute_result"
    }
   ],
   "source": [
    "data[\"year\"] = pd.to_datetime(data[\"year\"])\n",
    "\n",
    "# data = data.sort_values(by=\"year\") # disable for easier comparison\n",
    "data.head()"
   ]
  },
  {
   "cell_type": "code",
   "execution_count": 6,
   "metadata": {
    "_cell_guid": "6456dc38-81be-4dc3-a21f-3f89caab68f0",
    "_uuid": "ad8540a3-48bd-4204-9391-6ab17d8666c6",
    "execution": {
     "iopub.execute_input": "2021-05-26T12:56:28.494373Z",
     "iopub.status.busy": "2021-05-26T12:56:28.489160Z",
     "iopub.status.idle": "2021-05-26T12:56:28.541819Z",
     "shell.execute_reply": "2021-05-26T12:56:28.540988Z",
     "shell.execute_reply.started": "2021-05-26T11:18:37.091319Z"
    },
    "papermill": {
     "duration": 0.0874,
     "end_time": "2021-05-26T12:56:28.541915",
     "exception": false,
     "start_time": "2021-05-26T12:56:28.454515",
     "status": "completed"
    },
    "tags": []
   },
   "outputs": [
    {
     "data": {
      "text/plain": [
       "0    we propose an architecture for vqa which utili...\n",
       "1    recent approaches based on artificial neural n...\n",
       "2    we introduce the multiresolution recurrent neu...\n",
       "3    multi-task learning is motivated by the observ...\n",
       "4    we present milabot: a deep reinforcement learn...\n",
       "Name: summary, dtype: object"
      ]
     },
     "execution_count": 6,
     "metadata": {},
     "output_type": "execute_result"
    }
   ],
   "source": [
    "data_abstract = data['summary'].str.lower()\n",
    "data_abstract.head()"
   ]
  },
  {
   "cell_type": "code",
   "execution_count": 7,
   "metadata": {
    "_cell_guid": "1cf0ce6e-15c4-44d8-ab39-b1fabb194053",
    "_uuid": "6ec851f8-f593-4cc4-99d9-aa3b60aed34c",
    "execution": {
     "iopub.execute_input": "2021-05-26T12:56:28.592304Z",
     "iopub.status.busy": "2021-05-26T12:56:28.591846Z",
     "iopub.status.idle": "2021-05-26T12:56:28.594895Z",
     "shell.execute_reply": "2021-05-26T12:56:28.594295Z",
     "shell.execute_reply.started": "2021-05-26T11:18:37.164716Z"
    },
    "papermill": {
     "duration": 0.029281,
     "end_time": "2021-05-26T12:56:28.594986",
     "exception": false,
     "start_time": "2021-05-26T12:56:28.565705",
     "status": "completed"
    },
    "tags": []
   },
   "outputs": [
    {
     "name": "stdout",
     "output_type": "stream",
     "text": [
      "41000\n"
     ]
    }
   ],
   "source": [
    "x= len(data_abstract)\n",
    "print(x)"
   ]
  },
  {
   "cell_type": "code",
   "execution_count": 8,
   "metadata": {
    "_cell_guid": "8581e62e-99cc-4908-a492-0dd1fb8429ad",
    "_uuid": "0b2980ce-7d7d-4f5f-bd75-65a378401199",
    "execution": {
     "iopub.execute_input": "2021-05-26T12:56:28.674263Z",
     "iopub.status.busy": "2021-05-26T12:56:28.673629Z",
     "iopub.status.idle": "2021-05-26T12:56:29.381462Z",
     "shell.execute_reply": "2021-05-26T12:56:29.380897Z",
     "shell.execute_reply.started": "2021-05-26T11:18:37.171822Z"
    },
    "papermill": {
     "duration": 0.750778,
     "end_time": "2021-05-26T12:56:29.381552",
     "exception": false,
     "start_time": "2021-05-26T12:56:28.630774",
     "status": "completed"
    },
    "tags": []
   },
   "outputs": [],
   "source": [
    "nlp = spacy.load('en', disable=['ner', 'parser']) # disabling Named Entity Recognition for speed\n",
    "\n",
    "##ORIGL\n",
    "# def cleaning(doc):\n",
    "#     # Lemmatizes and removes stopwords\n",
    "#     # doc needs to be a spacy Doc object\n",
    "#     txt = [token.lemma_ for token in doc if not token.is_stop]\n",
    "#     # Word2Vec uses context words to learn the vector representation of a target word,\n",
    "#     # if a sentence is only one or two words long,\n",
    "#     # the benefit for the training is very small\n",
    "#     if len(txt) > 2:  \n",
    "#         return ' '.join(txt)\n",
    "\n",
    "##ALT - speedup: \n",
    "\n",
    "def cleaning(doc):\n",
    "    # Lemmatizes and removes stopwords\n",
    "    # doc needs to be a spacy Doc object\n",
    "    if len(doc)>2:\n",
    "        txt = [token.lemma_ for token in doc if not token.is_stop]\n",
    "        # Word2Vec uses context words to learn the vector representation of a target word,\n",
    "        # if a sentence is only one or two words long,\n",
    "        # the benefit for the training is very small\n",
    "        if len(txt) > 2:\n",
    "            return ' '.join(txt)"
   ]
  },
  {
   "cell_type": "code",
   "execution_count": 9,
   "metadata": {
    "_cell_guid": "0ceb0246-bae8-4ac8-8db4-534f9197dc21",
    "_uuid": "e623c4a7-1f8c-4fcb-83a1-b91189711150",
    "execution": {
     "iopub.execute_input": "2021-05-26T12:56:29.435582Z",
     "iopub.status.busy": "2021-05-26T12:56:29.435051Z",
     "iopub.status.idle": "2021-05-26T12:56:29.437886Z",
     "shell.execute_reply": "2021-05-26T12:56:29.437373Z",
     "shell.execute_reply.started": "2021-05-26T11:18:38.366789Z"
    },
    "papermill": {
     "duration": 0.031358,
     "end_time": "2021-05-26T12:56:29.437975",
     "exception": false,
     "start_time": "2021-05-26T12:56:29.406617",
     "status": "completed"
    },
    "tags": []
   },
   "outputs": [],
   "source": [
    "brief_cleaning = (re.sub(\"[^A-Za-z']+\", ' ', str(row)).lower() for row in data['summary'])"
   ]
  },
  {
   "cell_type": "code",
   "execution_count": 10,
   "metadata": {
    "_cell_guid": "8e09dcff-fe18-4e5e-a8f0-04a06dc691dd",
    "_uuid": "f6392f3e-e5ef-403f-8389-8b7161975231",
    "execution": {
     "iopub.execute_input": "2021-05-26T12:56:29.517529Z",
     "iopub.status.busy": "2021-05-26T12:56:29.512361Z",
     "iopub.status.idle": "2021-05-26T12:59:04.063079Z",
     "shell.execute_reply": "2021-05-26T12:59:04.063542Z",
     "shell.execute_reply.started": "2021-05-26T11:18:38.374935Z"
    },
    "papermill": {
     "duration": 154.601446,
     "end_time": "2021-05-26T12:59:04.063648",
     "exception": false,
     "start_time": "2021-05-26T12:56:29.462202",
     "status": "completed"
    },
    "tags": []
   },
   "outputs": [
    {
     "name": "stdout",
     "output_type": "stream",
     "text": [
      "Time to clean up everything: 2.58 mins\n"
     ]
    }
   ],
   "source": [
    "t = time()\n",
    "\n",
    "txt = [cleaning(doc) for doc in nlp.pipe(brief_cleaning, batch_size=5000, n_threads=-1)]\n",
    "\n",
    "print('Time to clean up everything: {} mins'.format(round((time() - t) / 60, 2)))"
   ]
  },
  {
   "cell_type": "code",
   "execution_count": 11,
   "metadata": {
    "_cell_guid": "b7d77407-4bce-4487-9af7-3a8354b1cdb7",
    "_uuid": "c85ab876-5c47-4a48-860d-b1fd4a4381a8",
    "execution": {
     "iopub.execute_input": "2021-05-26T12:59:04.121087Z",
     "iopub.status.busy": "2021-05-26T12:59:04.120608Z",
     "iopub.status.idle": "2021-05-26T12:59:04.214609Z",
     "shell.execute_reply": "2021-05-26T12:59:04.214195Z",
     "shell.execute_reply.started": "2021-05-26T11:23:02.024472Z"
    },
    "papermill": {
     "duration": 0.127147,
     "end_time": "2021-05-26T12:59:04.214694",
     "exception": false,
     "start_time": "2021-05-26T12:59:04.087547",
     "status": "completed"
    },
    "tags": []
   },
   "outputs": [
    {
     "data": {
      "text/plain": [
       "(40955, 1)"
      ]
     },
     "execution_count": 11,
     "metadata": {},
     "output_type": "execute_result"
    }
   ],
   "source": [
    "data_clean = pd.DataFrame({'clean': txt})\n",
    "data_clean = data_clean.dropna().drop_duplicates()\n",
    "data_clean.shape"
   ]
  },
  {
   "cell_type": "code",
   "execution_count": 12,
   "metadata": {
    "_cell_guid": "7ce86c5e-5623-4664-bbdb-0ae5262714b6",
    "_uuid": "b823272c-21bf-49d7-a328-f58fa93a51f9",
    "execution": {
     "iopub.execute_input": "2021-05-26T12:59:04.268462Z",
     "iopub.status.busy": "2021-05-26T12:59:04.267982Z",
     "iopub.status.idle": "2021-05-26T12:59:04.897462Z",
     "shell.execute_reply": "2021-05-26T12:59:04.897882Z",
     "shell.execute_reply.started": "2021-05-26T11:23:02.160218Z"
    },
    "papermill": {
     "duration": 0.658724,
     "end_time": "2021-05-26T12:59:04.898000",
     "exception": false,
     "start_time": "2021-05-26T12:59:04.239276",
     "status": "completed"
    },
    "tags": []
   },
   "outputs": [],
   "source": [
    "from gensim.models.phrases import Phrases, Phraser\n",
    "sent = [row.split() for row in data_clean['clean']]"
   ]
  },
  {
   "cell_type": "markdown",
   "metadata": {
    "papermill": {
     "duration": 0.025183,
     "end_time": "2021-05-26T12:59:04.947876",
     "exception": false,
     "start_time": "2021-05-26T12:59:04.922693",
     "status": "completed"
    },
    "tags": []
   },
   "source": [
    "* https://stackoverflow.com/questions/35716121/how-to-extract-phrases-from-corpus-using-gensim"
   ]
  },
  {
   "cell_type": "code",
   "execution_count": 13,
   "metadata": {
    "execution": {
     "iopub.execute_input": "2021-05-26T12:59:05.001313Z",
     "iopub.status.busy": "2021-05-26T12:59:05.000795Z",
     "iopub.status.idle": "2021-05-26T12:59:05.003888Z",
     "shell.execute_reply": "2021-05-26T12:59:05.003428Z",
     "shell.execute_reply.started": "2021-05-26T11:23:02.933711Z"
    },
    "papermill": {
     "duration": 0.031358,
     "end_time": "2021-05-26T12:59:05.003979",
     "exception": false,
     "start_time": "2021-05-26T12:59:04.972621",
     "status": "completed"
    },
    "tags": []
   },
   "outputs": [
    {
     "name": "stdout",
     "output_type": "stream",
     "text": [
      "['propose', 'architecture', 'vqa', 'utilize', 'recurrent', 'layer', 'generate', 'visual', 'textual', 'attention', 'memory', 'characteristic', 'propose', 'recurrent', 'attention', 'unit', 'offer', 'rich', 'joint', 'embedding', 'visual', 'textual', 'feature', 'enable', 'model', 'reason', 'relation', 'part', 'image', 'question', 'single', 'model', 'outperform', 'place', 'winner', 'vqa', 'dataset', 'perform', 'margin', 'current', 'state', 'art', 'ensemble', 'model', 'experiment', 'replace', 'attention', 'mechanism', 'state', 'art', 'model', 'implementation', 'increase', 'accuracy', 'case', 'recurrent', 'attention', 'mechanism', 'improve', 'performance', 'task', 'require', 'sequential', 'relational', 'reasoning', 'vqa', 'dataset']\n"
     ]
    }
   ],
   "source": [
    "print(sent[0])"
   ]
  },
  {
   "cell_type": "code",
   "execution_count": 14,
   "metadata": {
    "_cell_guid": "164db83b-ec3d-4f3c-b669-c4c49a81877e",
    "_uuid": "04de8c48-af2e-4994-bc07-879dcf1e4df7",
    "execution": {
     "iopub.execute_input": "2021-05-26T12:59:05.057284Z",
     "iopub.status.busy": "2021-05-26T12:59:05.056805Z",
     "iopub.status.idle": "2021-05-26T12:59:26.386911Z",
     "shell.execute_reply": "2021-05-26T12:59:26.386261Z",
     "shell.execute_reply.started": "2021-05-26T11:23:02.941454Z"
    },
    "papermill": {
     "duration": 21.357605,
     "end_time": "2021-05-26T12:59:26.387026",
     "exception": false,
     "start_time": "2021-05-26T12:59:05.029421",
     "status": "completed"
    },
    "tags": []
   },
   "outputs": [],
   "source": [
    "phrases = Phrases(sent, min_count= 20, progress_per=10000) # min_count=30\n",
    "bigram = Phraser(phrases)"
   ]
  },
  {
   "cell_type": "code",
   "execution_count": 15,
   "metadata": {
    "_cell_guid": "6ba5d0c2-03b7-4f29-b0d5-42980db572b4",
    "_uuid": "4197bd27-518d-4939-9605-86d0d257b34a",
    "execution": {
     "iopub.execute_input": "2021-05-26T12:59:26.467027Z",
     "iopub.status.busy": "2021-05-26T12:59:26.466427Z",
     "iopub.status.idle": "2021-05-26T12:59:26.469600Z",
     "shell.execute_reply": "2021-05-26T12:59:26.469059Z",
     "shell.execute_reply.started": "2021-05-26T11:23:33.608212Z"
    },
    "papermill": {
     "duration": 0.044276,
     "end_time": "2021-05-26T12:59:26.469695",
     "exception": false,
     "start_time": "2021-05-26T12:59:26.425419",
     "status": "completed"
    },
    "tags": []
   },
   "outputs": [],
   "source": [
    "sentences = bigram[sent]"
   ]
  },
  {
   "cell_type": "code",
   "execution_count": 16,
   "metadata": {
    "execution": {
     "iopub.execute_input": "2021-05-26T12:59:26.556524Z",
     "iopub.status.busy": "2021-05-26T12:59:26.551480Z",
     "iopub.status.idle": "2021-05-26T12:59:47.769806Z",
     "shell.execute_reply": "2021-05-26T12:59:47.769255Z",
     "shell.execute_reply.started": "2021-05-26T11:23:33.686261Z"
    },
    "papermill": {
     "duration": 21.262089,
     "end_time": "2021-05-26T12:59:47.769914",
     "exception": false,
     "start_time": "2021-05-26T12:59:26.507825",
     "status": "completed"
    },
    "tags": []
   },
   "outputs": [],
   "source": [
    "### get trigrams, by including found bigrams/phrases\n",
    "phrases2 = Phrases(sent, min_count= 20, progress_per=10000) # min_count=30\n",
    "trigram = Phraser(phrases2)\n",
    "\n",
    "sentences = trigram[sentences]"
   ]
  },
  {
   "cell_type": "code",
   "execution_count": 17,
   "metadata": {
    "execution": {
     "iopub.execute_input": "2021-05-26T12:59:47.850341Z",
     "iopub.status.busy": "2021-05-26T12:59:47.849649Z",
     "iopub.status.idle": "2021-05-26T12:59:47.853477Z",
     "shell.execute_reply": "2021-05-26T12:59:47.853852Z",
     "shell.execute_reply.started": "2021-05-26T11:24:04.368351Z"
    },
    "papermill": {
     "duration": 0.046284,
     "end_time": "2021-05-26T12:59:47.853952",
     "exception": false,
     "start_time": "2021-05-26T12:59:47.807668",
     "status": "completed"
    },
    "tags": []
   },
   "outputs": [
    {
     "data": {
      "text/plain": [
       "['propose',\n",
       " 'architecture',\n",
       " 'vqa',\n",
       " 'utilize',\n",
       " 'recurrent',\n",
       " 'layer',\n",
       " 'generate',\n",
       " 'visual_textual',\n",
       " 'attention',\n",
       " 'memory',\n",
       " 'characteristic',\n",
       " 'propose',\n",
       " 'recurrent',\n",
       " 'attention',\n",
       " 'unit',\n",
       " 'offer',\n",
       " 'rich',\n",
       " 'joint',\n",
       " 'embedding',\n",
       " 'visual_textual',\n",
       " 'feature',\n",
       " 'enable',\n",
       " 'model',\n",
       " 'reason',\n",
       " 'relation',\n",
       " 'part',\n",
       " 'image',\n",
       " 'question',\n",
       " 'single',\n",
       " 'model',\n",
       " 'outperform',\n",
       " 'place',\n",
       " 'winner',\n",
       " 'vqa',\n",
       " 'dataset',\n",
       " 'perform',\n",
       " 'margin',\n",
       " 'current_state',\n",
       " 'art',\n",
       " 'ensemble',\n",
       " 'model',\n",
       " 'experiment',\n",
       " 'replace',\n",
       " 'attention_mechanism',\n",
       " 'state_art',\n",
       " 'model',\n",
       " 'implementation',\n",
       " 'increase',\n",
       " 'accuracy',\n",
       " 'case',\n",
       " 'recurrent',\n",
       " 'attention_mechanism',\n",
       " 'improve_performance',\n",
       " 'task',\n",
       " 'require',\n",
       " 'sequential',\n",
       " 'relational',\n",
       " 'reasoning',\n",
       " 'vqa',\n",
       " 'dataset']"
      ]
     },
     "execution_count": 17,
     "metadata": {},
     "output_type": "execute_result"
    }
   ],
   "source": [
    "sentences[0]"
   ]
  },
  {
   "cell_type": "code",
   "execution_count": 18,
   "metadata": {
    "_cell_guid": "769c9140-1b14-41d0-8401-a1f092082f8c",
    "_uuid": "f4ce3e58-38dc-476c-b772-7a7cb7844714",
    "execution": {
     "iopub.execute_input": "2021-05-26T12:59:47.906128Z",
     "iopub.status.busy": "2021-05-26T12:59:47.905668Z",
     "iopub.status.idle": "2021-05-26T13:00:06.906911Z",
     "shell.execute_reply": "2021-05-26T13:00:06.907422Z",
     "shell.execute_reply.started": "2021-05-26T11:24:04.379318Z"
    },
    "papermill": {
     "duration": 19.028371,
     "end_time": "2021-05-26T13:00:06.907527",
     "exception": false,
     "start_time": "2021-05-26T12:59:47.879156",
     "status": "completed"
    },
    "tags": []
   },
   "outputs": [
    {
     "data": {
      "text/plain": [
       "50696"
      ]
     },
     "execution_count": 18,
     "metadata": {},
     "output_type": "execute_result"
    }
   ],
   "source": [
    "word_freq = defaultdict(int)\n",
    "for sent in sentences:\n",
    "    for i in sent:\n",
    "        word_freq[i] += 1\n",
    "len(word_freq)"
   ]
  },
  {
   "cell_type": "code",
   "execution_count": 19,
   "metadata": {
    "_cell_guid": "0d1ea854-6045-476a-ad51-04b58a4f2522",
    "_uuid": "8790c27b-021e-4f78-9889-86f67def64e0",
    "execution": {
     "iopub.execute_input": "2021-05-26T13:00:06.960847Z",
     "iopub.status.busy": "2021-05-26T13:00:06.960415Z",
     "iopub.status.idle": "2021-05-26T13:00:06.976294Z",
     "shell.execute_reply": "2021-05-26T13:00:06.976769Z",
     "shell.execute_reply.started": "2021-05-26T11:24:32.128099Z"
    },
    "papermill": {
     "duration": 0.043953,
     "end_time": "2021-05-26T13:00:06.976881",
     "exception": false,
     "start_time": "2021-05-26T13:00:06.932928",
     "status": "completed"
    },
    "tags": []
   },
   "outputs": [
    {
     "data": {
      "text/plain": [
       "['model',\n",
       " 'method',\n",
       " 'propose',\n",
       " 'algorithm',\n",
       " 'base',\n",
       " 'image',\n",
       " 'problem',\n",
       " 'approach',\n",
       " 'datum',\n",
       " 'network']"
      ]
     },
     "execution_count": 19,
     "metadata": {},
     "output_type": "execute_result"
    }
   ],
   "source": [
    "sorted(word_freq, key=word_freq.get, reverse=True)[:10]"
   ]
  },
  {
   "cell_type": "code",
   "execution_count": 20,
   "metadata": {
    "_cell_guid": "76fdd7a2-3962-4494-82ce-e73d844aaec7",
    "_uuid": "331ac8af-7d5c-412d-bd30-be5f4840bf06",
    "execution": {
     "iopub.execute_input": "2021-05-26T13:00:07.030291Z",
     "iopub.status.busy": "2021-05-26T13:00:07.029841Z",
     "iopub.status.idle": "2021-05-26T13:00:07.031568Z",
     "shell.execute_reply": "2021-05-26T13:00:07.031986Z",
     "shell.execute_reply.started": "2021-05-26T11:24:32.151201Z"
    },
    "papermill": {
     "duration": 0.029933,
     "end_time": "2021-05-26T13:00:07.032068",
     "exception": false,
     "start_time": "2021-05-26T13:00:07.002135",
     "status": "completed"
    },
    "tags": []
   },
   "outputs": [],
   "source": [
    "import multiprocessing\n",
    "\n",
    "from gensim.models import Word2Vec"
   ]
  },
  {
   "cell_type": "code",
   "execution_count": 21,
   "metadata": {
    "_cell_guid": "68619c10-8e88-4376-8fe8-d1062f728ba2",
    "_uuid": "c8290990-8926-4cd4-b836-ab646c475f7e",
    "execution": {
     "iopub.execute_input": "2021-05-26T13:00:07.084990Z",
     "iopub.status.busy": "2021-05-26T13:00:07.084534Z",
     "iopub.status.idle": "2021-05-26T13:00:07.087539Z",
     "shell.execute_reply": "2021-05-26T13:00:07.087883Z",
     "shell.execute_reply.started": "2021-05-26T11:24:32.165086Z"
    },
    "papermill": {
     "duration": 0.030897,
     "end_time": "2021-05-26T13:00:07.087971",
     "exception": false,
     "start_time": "2021-05-26T13:00:07.057074",
     "status": "completed"
    },
    "tags": []
   },
   "outputs": [],
   "source": [
    "cores = multiprocessing.cpu_count()"
   ]
  },
  {
   "cell_type": "code",
   "execution_count": 22,
   "metadata": {
    "_cell_guid": "31927cf8-a461-46fb-a655-50b5becd1c5d",
    "_uuid": "b97ccd48-2782-42ad-8c58-2b4cb24d1d83",
    "execution": {
     "iopub.execute_input": "2021-05-26T13:00:07.140996Z",
     "iopub.status.busy": "2021-05-26T13:00:07.140566Z",
     "iopub.status.idle": "2021-05-26T13:00:07.145913Z",
     "shell.execute_reply": "2021-05-26T13:00:07.145482Z",
     "shell.execute_reply.started": "2021-05-26T11:24:32.177641Z"
    },
    "papermill": {
     "duration": 0.032574,
     "end_time": "2021-05-26T13:00:07.146008",
     "exception": false,
     "start_time": "2021-05-26T13:00:07.113434",
     "status": "completed"
    },
    "tags": []
   },
   "outputs": [],
   "source": [
    "w2v_model = Word2Vec(min_count=15,  # min_count=20,\n",
    "                     window=5,  # window=2,\n",
    "                     size=300,\n",
    "                     sample=6e-5, \n",
    "                     alpha=0.03, \n",
    "                     min_alpha=0.0007, \n",
    "                     negative=20,\n",
    "                     workers=cores-1)"
   ]
  },
  {
   "cell_type": "code",
   "execution_count": 23,
   "metadata": {
    "_cell_guid": "57d93a29-0800-4b30-92bc-9b4517d3a4d2",
    "_uuid": "ceb13443-0d11-42ad-b495-ac20eb02d51f",
    "execution": {
     "iopub.execute_input": "2021-05-26T13:00:07.200401Z",
     "iopub.status.busy": "2021-05-26T13:00:07.199925Z",
     "iopub.status.idle": "2021-05-26T13:00:28.150326Z",
     "shell.execute_reply": "2021-05-26T13:00:28.149678Z",
     "shell.execute_reply.started": "2021-05-26T11:24:32.194318Z"
    },
    "papermill": {
     "duration": 20.978072,
     "end_time": "2021-05-26T13:00:28.150430",
     "exception": false,
     "start_time": "2021-05-26T13:00:07.172358",
     "status": "completed"
    },
    "tags": []
   },
   "outputs": [
    {
     "name": "stdout",
     "output_type": "stream",
     "text": [
      "Time to build vocab: 0.35 mins\n"
     ]
    }
   ],
   "source": [
    "t = time()\n",
    "\n",
    "w2v_model.build_vocab(sentences, progress_per=10000)\n",
    "\n",
    "print('Time to build vocab: {} mins'.format(round((time() - t) / 60, 2)))"
   ]
  },
  {
   "cell_type": "code",
   "execution_count": 24,
   "metadata": {
    "_cell_guid": "f3c89c94-4270-4420-9f0b-0c80af69a456",
    "_uuid": "c99c667f-1e22-410c-b030-9a4f1da9142c",
    "execution": {
     "iopub.execute_input": "2021-05-26T13:00:28.233170Z",
     "iopub.status.busy": "2021-05-26T13:00:28.232425Z",
     "iopub.status.idle": "2021-05-26T13:11:54.968160Z",
     "shell.execute_reply": "2021-05-26T13:11:54.968593Z",
     "shell.execute_reply.started": "2021-05-26T11:25:04.073203Z"
    },
    "papermill": {
     "duration": 686.779609,
     "end_time": "2021-05-26T13:11:54.968706",
     "exception": false,
     "start_time": "2021-05-26T13:00:28.189097",
     "status": "completed"
    },
    "tags": []
   },
   "outputs": [
    {
     "name": "stdout",
     "output_type": "stream",
     "text": [
      "Time to train the model: 11.45 mins\n"
     ]
    }
   ],
   "source": [
    "t = time()\n",
    "\n",
    "w2v_model.train(sentences, total_examples=w2v_model.corpus_count, epochs=25, # epochs=30,\n",
    "                report_delay=1)\n",
    "\n",
    "print('Time to train the model: {} mins'.format(round((time() - t) / 60, 2)))"
   ]
  },
  {
   "cell_type": "code",
   "execution_count": 25,
   "metadata": {
    "_cell_guid": "5e61b8dc-ae79-41cc-924f-97e9d45d6292",
    "_uuid": "467365b2-00f6-4efb-a629-a115de260a1f",
    "execution": {
     "iopub.execute_input": "2021-05-26T13:11:55.025524Z",
     "iopub.status.busy": "2021-05-26T13:11:55.024991Z",
     "iopub.status.idle": "2021-05-26T13:11:55.035545Z",
     "shell.execute_reply": "2021-05-26T13:11:55.035041Z",
     "shell.execute_reply.started": "2021-05-26T11:37:22.913636Z"
    },
    "papermill": {
     "duration": 0.040709,
     "end_time": "2021-05-26T13:11:55.035637",
     "exception": false,
     "start_time": "2021-05-26T13:11:54.994928",
     "status": "completed"
    },
    "tags": []
   },
   "outputs": [],
   "source": [
    "w2v_model.init_sims(replace=True)"
   ]
  },
  {
   "cell_type": "code",
   "execution_count": 26,
   "metadata": {
    "_cell_guid": "30a089f7-79a7-48a6-836e-cccf6e4a817a",
    "_uuid": "3a77d396-1500-4b64-9945-9b9a62ede9cc",
    "execution": {
     "iopub.execute_input": "2021-05-26T13:11:55.096138Z",
     "iopub.status.busy": "2021-05-26T13:11:55.095681Z",
     "iopub.status.idle": "2021-05-26T13:11:55.109153Z",
     "shell.execute_reply": "2021-05-26T13:11:55.108690Z",
     "shell.execute_reply.started": "2021-05-26T11:37:22.931909Z"
    },
    "papermill": {
     "duration": 0.047297,
     "end_time": "2021-05-26T13:11:55.109255",
     "exception": false,
     "start_time": "2021-05-26T13:11:55.061958",
     "status": "completed"
    },
    "tags": []
   },
   "outputs": [
    {
     "data": {
      "text/plain": [
       "[('software_development', 0.6366830468177795),\n",
       " ('developer', 0.5696251392364502),\n",
       " ('java', 0.5335867404937744),\n",
       " ('lifecycle', 0.5296437740325928),\n",
       " ('documentation', 0.5234754681587219),\n",
       " ('software_engineering', 0.5078887939453125),\n",
       " ('javascript', 0.49422377347946167),\n",
       " ('browser', 0.49050840735435486),\n",
       " ('gui', 0.4880084991455078),\n",
       " ('open_source', 0.4834585189819336)]"
      ]
     },
     "execution_count": 26,
     "metadata": {},
     "output_type": "execute_result"
    }
   ],
   "source": [
    "w2v_model.wv.most_similar(positive=[\"software\"])"
   ]
  },
  {
   "cell_type": "code",
   "execution_count": 27,
   "metadata": {
    "_cell_guid": "d55e2eaa-1bf2-443d-bd8a-742524d9750b",
    "_uuid": "39450636-5948-46a9-aa04-949c0b1b82a2",
    "execution": {
     "iopub.execute_input": "2021-05-26T13:11:55.167391Z",
     "iopub.status.busy": "2021-05-26T13:11:55.166777Z",
     "iopub.status.idle": "2021-05-26T13:11:55.172956Z",
     "shell.execute_reply": "2021-05-26T13:11:55.172579Z",
     "shell.execute_reply.started": "2021-05-26T11:37:22.941852Z"
    },
    "papermill": {
     "duration": 0.03671,
     "end_time": "2021-05-26T13:11:55.173038",
     "exception": false,
     "start_time": "2021-05-26T13:11:55.136328",
     "status": "completed"
    },
    "tags": []
   },
   "outputs": [
    {
     "data": {
      "text/plain": [
       "[('civil', 0.5638142824172974),\n",
       " ('industrial_application', 0.5010552406311035),\n",
       " ('biology', 0.4768846929073334),\n",
       " ('science_engineering', 0.4629703760147095),\n",
       " ('social_science', 0.44419991970062256),\n",
       " ('computer_scientist', 0.4439702332019806),\n",
       " ('discipline', 0.4436374008655548),\n",
       " ('software_engineering', 0.44242459535598755),\n",
       " ('engineer', 0.43597304821014404),\n",
       " ('medicine', 0.43518027663230896)]"
      ]
     },
     "execution_count": 27,
     "metadata": {},
     "output_type": "execute_result"
    }
   ],
   "source": [
    "w2v_model.wv.most_similar(positive=[\"engineering\"])"
   ]
  },
  {
   "cell_type": "code",
   "execution_count": 28,
   "metadata": {
    "_cell_guid": "51346728-46a3-40e2-a6da-9b698bf3b535",
    "_uuid": "f593703b-801d-4df7-9d91-bb5a8f0a3ceb",
    "execution": {
     "iopub.execute_input": "2021-05-26T13:11:55.232127Z",
     "iopub.status.busy": "2021-05-26T13:11:55.231652Z",
     "iopub.status.idle": "2021-05-26T13:11:55.235506Z",
     "shell.execute_reply": "2021-05-26T13:11:55.235086Z",
     "shell.execute_reply.started": "2021-05-26T11:37:22.954476Z"
    },
    "papermill": {
     "duration": 0.03511,
     "end_time": "2021-05-26T13:11:55.235590",
     "exception": false,
     "start_time": "2021-05-26T13:11:55.200480",
     "status": "completed"
    },
    "tags": []
   },
   "outputs": [
    {
     "data": {
      "text/plain": [
       "0.46913132"
      ]
     },
     "execution_count": 28,
     "metadata": {},
     "output_type": "execute_result"
    }
   ],
   "source": [
    "w2v_model.wv.similarity(\"technology\", 'era')"
   ]
  },
  {
   "cell_type": "code",
   "execution_count": 29,
   "metadata": {
    "_cell_guid": "4aadafe1-8b8b-4c0a-a710-0fff1464f040",
    "_uuid": "226a5468-a423-45e4-b088-10bfa76c1dad",
    "execution": {
     "iopub.execute_input": "2021-05-26T13:11:55.295442Z",
     "iopub.status.busy": "2021-05-26T13:11:55.294962Z",
     "iopub.status.idle": "2021-05-26T13:11:55.302886Z",
     "shell.execute_reply": "2021-05-26T13:11:55.303283Z",
     "shell.execute_reply.started": "2021-05-26T11:37:22.966348Z"
    },
    "papermill": {
     "duration": 0.039732,
     "end_time": "2021-05-26T13:11:55.303389",
     "exception": false,
     "start_time": "2021-05-26T13:11:55.263657",
     "status": "completed"
    },
    "tags": []
   },
   "outputs": [
    {
     "name": "stderr",
     "output_type": "stream",
     "text": [
      "/opt/conda/lib/python3.7/site-packages/gensim/models/keyedvectors.py:877: FutureWarning: arrays to stack must be passed as a \"sequence\" type such as list or tuple. Support for non-sequence iterables such as generators is deprecated as of NumPy 1.16 and will raise an error in the future.\n",
      "  vectors = vstack(self.word_vec(word, use_norm=True) for word in used_words).astype(REAL)\n"
     ]
    },
    {
     "data": {
      "text/plain": [
       "'approach'"
      ]
     },
     "execution_count": 29,
     "metadata": {},
     "output_type": "execute_result"
    }
   ],
   "source": [
    "w2v_model.wv.doesnt_match(['era', 'approach', 'technology'])"
   ]
  },
  {
   "cell_type": "code",
   "execution_count": 30,
   "metadata": {
    "_cell_guid": "e2b5169d-f864-4a50-abd8-63b6cfafd1a1",
    "_uuid": "03e2070b-9712-4e47-9562-35d37b6c7ef0",
    "execution": {
     "iopub.execute_input": "2021-05-26T13:11:55.360960Z",
     "iopub.status.busy": "2021-05-26T13:11:55.360513Z",
     "iopub.status.idle": "2021-05-26T13:11:55.368888Z",
     "shell.execute_reply": "2021-05-26T13:11:55.368483Z",
     "shell.execute_reply.started": "2021-05-26T11:37:22.978646Z"
    },
    "papermill": {
     "duration": 0.038046,
     "end_time": "2021-05-26T13:11:55.368971",
     "exception": false,
     "start_time": "2021-05-26T13:11:55.330925",
     "status": "completed"
    },
    "tags": []
   },
   "outputs": [
    {
     "data": {
      "text/plain": [
       "[('rapid_growth', 0.6205344200134277),\n",
       " ('advent', 0.6116254329681396),\n",
       " ('revolution', 0.6055727601051331),\n",
       " ('deluge', 0.6000558137893677),\n",
       " ('explosive', 0.5954705476760864)]"
      ]
     },
     "execution_count": 30,
     "metadata": {},
     "output_type": "execute_result"
    }
   ],
   "source": [
    "w2v_model.wv.most_similar(positive=[\"technology\", \"era\"], negative=[\"approach\"], topn=5)"
   ]
  },
  {
   "cell_type": "code",
   "execution_count": 31,
   "metadata": {
    "execution": {
     "iopub.execute_input": "2021-05-26T13:11:55.431121Z",
     "iopub.status.busy": "2021-05-26T13:11:55.430461Z",
     "iopub.status.idle": "2021-05-26T13:11:55.437754Z",
     "shell.execute_reply": "2021-05-26T13:11:55.437363Z",
     "shell.execute_reply.started": "2021-05-26T11:37:22.995651Z"
    },
    "papermill": {
     "duration": 0.040047,
     "end_time": "2021-05-26T13:11:55.437840",
     "exception": false,
     "start_time": "2021-05-26T13:11:55.397793",
     "status": "completed"
    },
    "tags": []
   },
   "outputs": [
    {
     "data": {
      "text/plain": [
       "[('machine_learn', 0.7673787474632263),\n",
       " ('bioinformatics', 0.5214214324951172),\n",
       " ('datum_mining', 0.501287579536438),\n",
       " ('science_engineering', 0.49420303106307983),\n",
       " ('bioinformatic', 0.4727438688278198),\n",
       " ('social_science', 0.47272995114326477),\n",
       " ('deep_learning', 0.46382689476013184),\n",
       " ('computational_linguistic', 0.4500200152397156),\n",
       " ('informatic', 0.44544899463653564),\n",
       " ('renew_interest', 0.4432750344276428)]"
      ]
     },
     "execution_count": 31,
     "metadata": {},
     "output_type": "execute_result"
    }
   ],
   "source": [
    "w2v_model.wv.most_similar(positive=[\"machine_learning\"])"
   ]
  },
  {
   "cell_type": "code",
   "execution_count": 32,
   "metadata": {
    "execution": {
     "iopub.execute_input": "2021-05-26T13:11:55.497055Z",
     "iopub.status.busy": "2021-05-26T13:11:55.496514Z",
     "iopub.status.idle": "2021-05-26T13:11:55.501668Z",
     "shell.execute_reply": "2021-05-26T13:11:55.502104Z",
     "shell.execute_reply.started": "2021-05-26T11:37:23.006819Z"
    },
    "papermill": {
     "duration": 0.036642,
     "end_time": "2021-05-26T13:11:55.502203",
     "exception": false,
     "start_time": "2021-05-26T13:11:55.465561",
     "status": "completed"
    },
    "tags": []
   },
   "outputs": [
    {
     "data": {
      "text/plain": [
       "[('artificial_intelligence', 0.689173698425293),\n",
       " ('ethic', 0.5939954519271851),\n",
       " ('agi', 0.5767300128936768),\n",
       " ('intelligent_agent', 0.5041818618774414),\n",
       " ('artificial_life', 0.5033911466598511),\n",
       " ('cognitive_science', 0.5016610622406006),\n",
       " ('superhuman', 0.5014196634292603),\n",
       " ('ethical', 0.4807817339897156),\n",
       " ('intelligence', 0.4680931568145752),\n",
       " ('assistant', 0.46774715185165405)]"
      ]
     },
     "execution_count": 32,
     "metadata": {},
     "output_type": "execute_result"
    }
   ],
   "source": [
    "w2v_model.wv.most_similar(positive=[\"ai\"])"
   ]
  },
  {
   "cell_type": "code",
   "execution_count": 33,
   "metadata": {
    "execution": {
     "iopub.execute_input": "2021-05-26T13:11:55.559657Z",
     "iopub.status.busy": "2021-05-26T13:11:55.559190Z",
     "iopub.status.idle": "2021-05-26T13:11:55.565427Z",
     "shell.execute_reply": "2021-05-26T13:11:55.565779Z",
     "shell.execute_reply.started": "2021-05-26T12:55:40.613668Z"
    },
    "papermill": {
     "duration": 0.035893,
     "end_time": "2021-05-26T13:11:55.565889",
     "exception": false,
     "start_time": "2021-05-26T13:11:55.529996",
     "status": "completed"
    },
    "tags": []
   },
   "outputs": [
    {
     "data": {
      "text/plain": [
       "[('computer_science', 0.5688163638114929),\n",
       " ('renew_interest', 0.558725118637085),\n",
       " ('science_engineering', 0.5564792156219482),\n",
       " ('cognitive_science', 0.5556671619415283),\n",
       " ('endeavor', 0.5555830001831055),\n",
       " ('computational_linguistic', 0.5461016893386841),\n",
       " ('academia_industry', 0.5415195822715759),\n",
       " ('discipline', 0.5376780033111572),\n",
       " ('revolutionize', 0.5268438458442688),\n",
       " ('social_science', 0.52638840675354)]"
      ]
     },
     "execution_count": 33,
     "metadata": {},
     "output_type": "execute_result"
    }
   ],
   "source": [
    "w2v_model.wv.most_similar(positive=[\"artificial_intelligence\",\"ai\",'machine_learning','machine_learn'])"
   ]
  },
  {
   "cell_type": "code",
   "execution_count": 34,
   "metadata": {
    "execution": {
     "iopub.execute_input": "2021-05-26T13:11:55.627029Z",
     "iopub.status.busy": "2021-05-26T13:11:55.626557Z",
     "iopub.status.idle": "2021-05-26T13:11:55.633597Z",
     "shell.execute_reply": "2021-05-26T13:11:55.634052Z",
     "shell.execute_reply.started": "2021-05-26T11:37:23.020873Z"
    },
    "papermill": {
     "duration": 0.038912,
     "end_time": "2021-05-26T13:11:55.634172",
     "exception": false,
     "start_time": "2021-05-26T13:11:55.595260",
     "status": "completed"
    },
    "tags": []
   },
   "outputs": [
    {
     "data": {
      "text/plain": [
       "[('soft_attention', 0.608681857585907),\n",
       " ('attend', 0.6000659465789795),\n",
       " ('attention', 0.5988219976425171),\n",
       " ('attentive', 0.5814162492752075),\n",
       " ('attentional', 0.5723384618759155),\n",
       " ('selectively', 0.5515202283859253),\n",
       " ('visual_textual', 0.47868841886520386),\n",
       " ('seq_seq', 0.4767484962940216),\n",
       " ('recurrent', 0.4739079773426056),\n",
       " ('abstractive', 0.4722852408885956)]"
      ]
     },
     "execution_count": 34,
     "metadata": {},
     "output_type": "execute_result"
    }
   ],
   "source": [
    "w2v_model.wv.most_similar(positive=[\"attention_mechanism\"])"
   ]
  },
  {
   "cell_type": "code",
   "execution_count": 35,
   "metadata": {
    "execution": {
     "iopub.execute_input": "2021-05-26T13:11:55.695943Z",
     "iopub.status.busy": "2021-05-26T13:11:55.695509Z",
     "iopub.status.idle": "2021-05-26T13:11:55.702045Z",
     "shell.execute_reply": "2021-05-26T13:11:55.702421Z",
     "shell.execute_reply.started": "2021-05-26T11:37:23.034211Z"
    },
    "papermill": {
     "duration": 0.038524,
     "end_time": "2021-05-26T13:11:55.702526",
     "exception": false,
     "start_time": "2021-05-26T13:11:55.664002",
     "status": "completed"
    },
    "tags": []
   },
   "outputs": [
    {
     "data": {
      "text/plain": [
       "[('embed', 0.6614126563072205),\n",
       " ('vector_space', 0.571323037147522),\n",
       " ('representation', 0.569983720779419),\n",
       " ('transe', 0.5257548093795776),\n",
       " ('entity_relation', 0.5211679935455322),\n",
       " ('word_embedding', 0.520942211151123),\n",
       " ('skip_gram', 0.5195310115814209),\n",
       " ('embe', 0.5083346366882324),\n",
       " ('vec', 0.5074207186698914),\n",
       " ('word_vec', 0.49638521671295166)]"
      ]
     },
     "execution_count": 35,
     "metadata": {},
     "output_type": "execute_result"
    }
   ],
   "source": [
    "w2v_model.wv.most_similar(positive=[\"embedding\"])"
   ]
  },
  {
   "cell_type": "code",
   "execution_count": null,
   "metadata": {
    "papermill": {
     "duration": 0.02919,
     "end_time": "2021-05-26T13:11:55.761157",
     "exception": false,
     "start_time": "2021-05-26T13:11:55.731967",
     "status": "completed"
    },
    "tags": []
   },
   "outputs": [],
   "source": []
  }
 ],
 "metadata": {
  "kernelspec": {
   "display_name": "Python 3",
   "language": "python",
   "name": "python3"
  },
  "language_info": {
   "codemirror_mode": {
    "name": "ipython",
    "version": 3
   },
   "file_extension": ".py",
   "mimetype": "text/x-python",
   "name": "python",
   "nbconvert_exporter": "python",
   "pygments_lexer": "ipython3",
   "version": "3.7.6"
  },
  "papermill": {
   "duration": 935.839611,
   "end_time": "2021-05-26T13:11:55.897623",
   "environment_variables": {},
   "exception": null,
   "input_path": "__notebook__.ipynb",
   "output_path": "__notebook__.ipynb",
   "parameters": {},
   "start_time": "2021-05-26T12:56:20.058012",
   "version": "2.1.0"
  }
 },
 "nbformat": 4,
 "nbformat_minor": 4
}
